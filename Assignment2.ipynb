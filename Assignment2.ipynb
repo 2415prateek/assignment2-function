{
 "cells": [
  {
   "cell_type": "markdown",
   "id": "6cb19a27-325d-4876-8958-ba9f64e5104a",
   "metadata": {},
   "source": [
    "ans-1"
   ]
  },
  {
   "cell_type": "code",
   "execution_count": 1,
   "id": "5b0b8b80-b588-4e12-8d2e-daab0950c2d3",
   "metadata": {},
   "outputs": [],
   "source": [
    "my_list =[('Sachin Tendulkar', 34357), ('Ricky Ponting', 27483), ('Jack Kallis', 25534), ('Virat Kohli', 24936)]\n",
    "sorted_list  = sorted(my_list,key = lambda x:x[1])"
   ]
  },
  {
   "cell_type": "code",
   "execution_count": 2,
   "id": "cdf14330-ca52-4e7e-8b3e-235d56a00b93",
   "metadata": {},
   "outputs": [
    {
     "data": {
      "text/plain": [
       "[('Virat Kohli', 24936),\n",
       " ('Jack Kallis', 25534),\n",
       " ('Ricky Ponting', 27483),\n",
       " ('Sachin Tendulkar', 34357)]"
      ]
     },
     "execution_count": 2,
     "metadata": {},
     "output_type": "execute_result"
    }
   ],
   "source": [
    "sorted_list"
   ]
  },
  {
   "cell_type": "markdown",
   "id": "25e14276-5c77-499d-8aef-b52947810b32",
   "metadata": {},
   "source": [
    "ans-2"
   ]
  },
  {
   "cell_type": "code",
   "execution_count": 8,
   "id": "d0f505a7-dadd-46aa-9eed-aad37c8c876a",
   "metadata": {},
   "outputs": [
    {
     "name": "stdout",
     "output_type": "stream",
     "text": [
      "[1, 4, 9, 16, 25, 36, 49, 64, 81, 100]\n"
     ]
    }
   ],
   "source": [
    "#using lambda  & mapfunction:\n",
    "my_list = [1,2,3,4,5,6,7,8,9,10]\n",
    "result = list(map(lambda i:i**2,my_list))\n",
    "print(result)"
   ]
  },
  {
   "cell_type": "markdown",
   "id": "1b85272e-6d0e-42f6-93bd-51c5bda56e5b",
   "metadata": {},
   "source": [
    "ans3"
   ]
  },
  {
   "cell_type": "code",
   "execution_count": 10,
   "id": "8200c1ac-07b1-4f7a-b44d-d5ee0a5aadd0",
   "metadata": {},
   "outputs": [
    {
     "name": "stdout",
     "output_type": "stream",
     "text": [
      "('1', '2', '3', '4', '5', '6', '7', '8', '9', '10')\n"
     ]
    }
   ],
   "source": [
    "given_string = [1, 2, 3, 4, 5, 6, 7, 8, 9, 10]\n",
    "result = tuple(map(lambda x:str(x),given_string))\n",
    "print(result)"
   ]
  },
  {
   "cell_type": "markdown",
   "id": "af1c67ce-1040-4ec8-a63f-8459d3aa09fd",
   "metadata": {},
   "source": [
    "ans-4"
   ]
  },
  {
   "cell_type": "code",
   "execution_count": 12,
   "id": "a2dcb6fb-10be-44d9-8c22-acba02f36a96",
   "metadata": {},
   "outputs": [
    {
     "name": "stdout",
     "output_type": "stream",
     "text": [
      "620448401733239439360000\n"
     ]
    }
   ],
   "source": [
    "from functools import reduce\n",
    "number = list(range(1,25))\n",
    "result = reduce(lambda x,y :x*y,number)\n",
    "print(result)"
   ]
  },
  {
   "cell_type": "markdown",
   "id": "c5cc7618-90de-4b53-9938-7b603411c76b",
   "metadata": {},
   "source": [
    "ans-5"
   ]
  },
  {
   "cell_type": "code",
   "execution_count": 14,
   "id": "15f4d3bf-d80c-47f1-b65c-31846f8193dd",
   "metadata": {},
   "outputs": [
    {
     "name": "stdout",
     "output_type": "stream",
     "text": [
      "The list of even number is :  [2, 6, 60, 90, 120, 46]\n",
      "The list of odd number is : [3, 9, 27, 55]\n"
     ]
    }
   ],
   "source": [
    "my_list = [2, 3, 6, 9, 27, 60, 90, 120, 55, 46]\n",
    "odd_list = list(filter(lambda x :x%2!=0,my_list))\n",
    "even_list= list(filter(lambda x:x%2==0,my_list))\n",
    "print(\"The list of even number is : \",even_list)\n",
    "print(\"The list of odd number is :\",odd_list)\n"
   ]
  },
  {
   "cell_type": "markdown",
   "id": "ef16f21f-8e6f-4582-b312-a944b1928b05",
   "metadata": {},
   "source": [
    "ans-6"
   ]
  },
  {
   "cell_type": "code",
   "execution_count": 15,
   "id": "5a16f4be-d5e5-477f-be52-e424b3821153",
   "metadata": {},
   "outputs": [],
   "source": [
    "string_list = ['python', 'php', 'aba', 'radar', 'level']\n",
    "palindromes = list(filter(lambda s:s==s[::-1],string_list))\n",
    "print(\"The above palin\")"
   ]
  },
  {
   "cell_type": "code",
   "execution_count": null,
   "id": "0541ab87-408a-40fa-a3c5-4553f48ec6fd",
   "metadata": {},
   "outputs": [],
   "source": []
  }
 ],
 "metadata": {
  "kernelspec": {
   "display_name": "Python 3 (ipykernel)",
   "language": "python",
   "name": "python3"
  },
  "language_info": {
   "codemirror_mode": {
    "name": "ipython",
    "version": 3
   },
   "file_extension": ".py",
   "mimetype": "text/x-python",
   "name": "python",
   "nbconvert_exporter": "python",
   "pygments_lexer": "ipython3",
   "version": "3.10.8"
  }
 },
 "nbformat": 4,
 "nbformat_minor": 5
}
